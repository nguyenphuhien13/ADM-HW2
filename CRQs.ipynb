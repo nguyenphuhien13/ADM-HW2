{
 "cells": [
  {
   "cell_type": "code",
   "execution_count": 181,
   "metadata": {},
   "outputs": [],
   "source": [
    "import pandas\n",
    "import json\n",
    "import datetime\n",
    "import requests\n",
    "import scipy\n",
    "import folium\n",
    "import matplotlib.pyplot as plt\n",
    "import numpy as np\n",
    "import seaborn as sns\n",
    "from scipy.stats import ttest_rel"
   ]
  },
  {
   "cell_type": "code",
   "execution_count": 182,
   "metadata": {},
   "outputs": [],
   "source": [
    "import os\n",
    "os.chdir('C:\\Master Sapienza\\Algorithmic Methods in Data Mining\\homework\\hw2')"
   ]
  },
  {
   "cell_type": "markdown",
   "metadata": {},
   "source": [
    "# Core Research Q1"
   ]
  },
  {
   "cell_type": "code",
   "execution_count": 183,
   "metadata": {},
   "outputs": [],
   "source": [
    "data = pandas.read_csv('yellow_tripdata_2018-04.csv') "
   ]
  },
  {
   "cell_type": "code",
   "execution_count": 184,
   "metadata": {},
   "outputs": [
    {
     "data": {
      "text/html": [
       "<div>\n",
       "<style scoped>\n",
       "    .dataframe tbody tr th:only-of-type {\n",
       "        vertical-align: middle;\n",
       "    }\n",
       "\n",
       "    .dataframe tbody tr th {\n",
       "        vertical-align: top;\n",
       "    }\n",
       "\n",
       "    .dataframe thead th {\n",
       "        text-align: right;\n",
       "    }\n",
       "</style>\n",
       "<table border=\"1\" class=\"dataframe\">\n",
       "  <thead>\n",
       "    <tr style=\"text-align: right;\">\n",
       "      <th></th>\n",
       "      <th>VendorID</th>\n",
       "      <th>tpep_pickup_datetime</th>\n",
       "      <th>tpep_dropoff_datetime</th>\n",
       "      <th>passenger_count</th>\n",
       "      <th>trip_distance</th>\n",
       "      <th>RatecodeID</th>\n",
       "      <th>store_and_fwd_flag</th>\n",
       "      <th>PULocationID</th>\n",
       "      <th>DOLocationID</th>\n",
       "      <th>payment_type</th>\n",
       "      <th>fare_amount</th>\n",
       "      <th>extra</th>\n",
       "      <th>mta_tax</th>\n",
       "      <th>tip_amount</th>\n",
       "      <th>tolls_amount</th>\n",
       "      <th>improvement_surcharge</th>\n",
       "      <th>total_amount</th>\n",
       "    </tr>\n",
       "  </thead>\n",
       "  <tbody>\n",
       "    <tr>\n",
       "      <th>0</th>\n",
       "      <td>1</td>\n",
       "      <td>2018-04-01 00:22:20</td>\n",
       "      <td>2018-04-01 00:22:26</td>\n",
       "      <td>1</td>\n",
       "      <td>0.0</td>\n",
       "      <td>1</td>\n",
       "      <td>N</td>\n",
       "      <td>145</td>\n",
       "      <td>145</td>\n",
       "      <td>2</td>\n",
       "      <td>2.5</td>\n",
       "      <td>0.5</td>\n",
       "      <td>0.5</td>\n",
       "      <td>0.00</td>\n",
       "      <td>0.0</td>\n",
       "      <td>0.3</td>\n",
       "      <td>3.80</td>\n",
       "    </tr>\n",
       "    <tr>\n",
       "      <th>1</th>\n",
       "      <td>1</td>\n",
       "      <td>2018-04-01 00:47:37</td>\n",
       "      <td>2018-04-01 01:08:42</td>\n",
       "      <td>1</td>\n",
       "      <td>6.7</td>\n",
       "      <td>1</td>\n",
       "      <td>N</td>\n",
       "      <td>152</td>\n",
       "      <td>90</td>\n",
       "      <td>2</td>\n",
       "      <td>22.5</td>\n",
       "      <td>0.5</td>\n",
       "      <td>0.5</td>\n",
       "      <td>0.00</td>\n",
       "      <td>0.0</td>\n",
       "      <td>0.3</td>\n",
       "      <td>23.80</td>\n",
       "    </tr>\n",
       "    <tr>\n",
       "      <th>2</th>\n",
       "      <td>1</td>\n",
       "      <td>2018-04-01 00:02:13</td>\n",
       "      <td>2018-04-01 00:17:52</td>\n",
       "      <td>2</td>\n",
       "      <td>4.1</td>\n",
       "      <td>1</td>\n",
       "      <td>N</td>\n",
       "      <td>239</td>\n",
       "      <td>158</td>\n",
       "      <td>1</td>\n",
       "      <td>15.5</td>\n",
       "      <td>0.5</td>\n",
       "      <td>0.5</td>\n",
       "      <td>3.35</td>\n",
       "      <td>0.0</td>\n",
       "      <td>0.3</td>\n",
       "      <td>20.15</td>\n",
       "    </tr>\n",
       "    <tr>\n",
       "      <th>3</th>\n",
       "      <td>1</td>\n",
       "      <td>2018-04-01 00:46:49</td>\n",
       "      <td>2018-04-01 00:52:05</td>\n",
       "      <td>1</td>\n",
       "      <td>0.7</td>\n",
       "      <td>1</td>\n",
       "      <td>N</td>\n",
       "      <td>90</td>\n",
       "      <td>249</td>\n",
       "      <td>1</td>\n",
       "      <td>5.5</td>\n",
       "      <td>0.5</td>\n",
       "      <td>0.5</td>\n",
       "      <td>1.35</td>\n",
       "      <td>0.0</td>\n",
       "      <td>0.3</td>\n",
       "      <td>8.15</td>\n",
       "    </tr>\n",
       "    <tr>\n",
       "      <th>4</th>\n",
       "      <td>1</td>\n",
       "      <td>2018-04-01 00:19:04</td>\n",
       "      <td>2018-04-01 00:19:09</td>\n",
       "      <td>1</td>\n",
       "      <td>0.0</td>\n",
       "      <td>1</td>\n",
       "      <td>N</td>\n",
       "      <td>145</td>\n",
       "      <td>145</td>\n",
       "      <td>2</td>\n",
       "      <td>2.5</td>\n",
       "      <td>0.5</td>\n",
       "      <td>0.5</td>\n",
       "      <td>0.00</td>\n",
       "      <td>0.0</td>\n",
       "      <td>0.3</td>\n",
       "      <td>3.80</td>\n",
       "    </tr>\n",
       "  </tbody>\n",
       "</table>\n",
       "</div>"
      ],
      "text/plain": [
       "   VendorID tpep_pickup_datetime tpep_dropoff_datetime  passenger_count  \\\n",
       "0         1  2018-04-01 00:22:20   2018-04-01 00:22:26                1   \n",
       "1         1  2018-04-01 00:47:37   2018-04-01 01:08:42                1   \n",
       "2         1  2018-04-01 00:02:13   2018-04-01 00:17:52                2   \n",
       "3         1  2018-04-01 00:46:49   2018-04-01 00:52:05                1   \n",
       "4         1  2018-04-01 00:19:04   2018-04-01 00:19:09                1   \n",
       "\n",
       "   trip_distance  RatecodeID store_and_fwd_flag  PULocationID  DOLocationID  \\\n",
       "0            0.0           1                  N           145           145   \n",
       "1            6.7           1                  N           152            90   \n",
       "2            4.1           1                  N           239           158   \n",
       "3            0.7           1                  N            90           249   \n",
       "4            0.0           1                  N           145           145   \n",
       "\n",
       "   payment_type  fare_amount  extra  mta_tax  tip_amount  tolls_amount  \\\n",
       "0             2          2.5    0.5      0.5        0.00           0.0   \n",
       "1             2         22.5    0.5      0.5        0.00           0.0   \n",
       "2             1         15.5    0.5      0.5        3.35           0.0   \n",
       "3             1          5.5    0.5      0.5        1.35           0.0   \n",
       "4             2          2.5    0.5      0.5        0.00           0.0   \n",
       "\n",
       "   improvement_surcharge  total_amount  \n",
       "0                    0.3          3.80  \n",
       "1                    0.3         23.80  \n",
       "2                    0.3         20.15  \n",
       "3                    0.3          8.15  \n",
       "4                    0.3          3.80  "
      ]
     },
     "execution_count": 184,
     "metadata": {},
     "output_type": "execute_result"
    }
   ],
   "source": [
    "pandas.set_option('display.max_columns', None)\n",
    "data.head()"
   ]
  },
  {
   "cell_type": "code",
   "execution_count": 185,
   "metadata": {},
   "outputs": [],
   "source": [
    "data['tpep_pickup_datetime'] = pandas.to_datetime(data['tpep_pickup_datetime'], format=\"%Y/%m/%d %H:%M:%S\")\n",
    "data['tpep_dropoff_datetime'] = pandas.to_datetime(data['tpep_dropoff_datetime'], format=\"%Y/%m/%d %H:%M:%S\")"
   ]
  },
  {
   "cell_type": "markdown",
   "metadata": {},
   "source": [
    "DATA CLEANING\n",
    "\n",
    "Criteria:\n",
    "\n",
    "_ Eliminate all trips with distance less than 0.2 miles and total amount less than 2.5.\n",
    "\n",
    "_ Eliminate all trips with fare_amount less than 2.5\n",
    "\n",
    "_ Eliminate all trips which are wrongly recorded in months and years."
   ]
  },
  {
   "cell_type": "code",
   "execution_count": 186,
   "metadata": {},
   "outputs": [],
   "source": [
    "trip = data.loc[(data.trip_distance > 0.2) & (data.total_amount > 2.5) &\n",
    "                (data.fare_amount > 2.5) &\n",
    "                (data['tpep_pickup_datetime'].dt.year == 2018) & (data['tpep_dropoff_datetime'].dt.year == 2018) &\n",
    "                (data['tpep_pickup_datetime'].dt.month == 4) & (data['tpep_dropoff_datetime'].dt.month <= 5) ][['tpep_pickup_datetime','tpep_dropoff_datetime','PULocationID','DOLocationID','trip_distance', 'fare_amount']]\n",
    "pickup_time = pandas.to_datetime(trip['tpep_pickup_datetime'], format = \"%Y/%m/%d %H:%M:%S\")\n",
    "dropoff_time = pandas.to_datetime(trip['tpep_dropoff_datetime'], format = \"%Y/%m/%d %H:%M:%S\")\n",
    "delta = (dropoff_time - pickup_time).astype('timedelta64[m]')\n",
    "trip['trip_duration(mins)'] = delta"
   ]
  },
  {
   "cell_type": "markdown",
   "metadata": {},
   "source": [
    "Get rid of all the trips that are unusually longer than 300 minutes and less than 1 minute"
   ]
  },
  {
   "cell_type": "code",
   "execution_count": 187,
   "metadata": {},
   "outputs": [
    {
     "data": {
      "text/html": [
       "<div>\n",
       "<style scoped>\n",
       "    .dataframe tbody tr th:only-of-type {\n",
       "        vertical-align: middle;\n",
       "    }\n",
       "\n",
       "    .dataframe tbody tr th {\n",
       "        vertical-align: top;\n",
       "    }\n",
       "\n",
       "    .dataframe thead th {\n",
       "        text-align: right;\n",
       "    }\n",
       "</style>\n",
       "<table border=\"1\" class=\"dataframe\">\n",
       "  <thead>\n",
       "    <tr style=\"text-align: right;\">\n",
       "      <th></th>\n",
       "      <th>tpep_pickup_datetime</th>\n",
       "      <th>tpep_dropoff_datetime</th>\n",
       "      <th>PULocationID</th>\n",
       "      <th>DOLocationID</th>\n",
       "      <th>trip_distance</th>\n",
       "      <th>fare_amount</th>\n",
       "      <th>trip_duration(mins)</th>\n",
       "    </tr>\n",
       "  </thead>\n",
       "  <tbody>\n",
       "    <tr>\n",
       "      <th>1</th>\n",
       "      <td>2018-04-01 00:47:37</td>\n",
       "      <td>2018-04-01 01:08:42</td>\n",
       "      <td>152</td>\n",
       "      <td>90</td>\n",
       "      <td>6.7</td>\n",
       "      <td>22.5</td>\n",
       "      <td>21.0</td>\n",
       "    </tr>\n",
       "    <tr>\n",
       "      <th>2</th>\n",
       "      <td>2018-04-01 00:02:13</td>\n",
       "      <td>2018-04-01 00:17:52</td>\n",
       "      <td>239</td>\n",
       "      <td>158</td>\n",
       "      <td>4.1</td>\n",
       "      <td>15.5</td>\n",
       "      <td>15.0</td>\n",
       "    </tr>\n",
       "    <tr>\n",
       "      <th>3</th>\n",
       "      <td>2018-04-01 00:46:49</td>\n",
       "      <td>2018-04-01 00:52:05</td>\n",
       "      <td>90</td>\n",
       "      <td>249</td>\n",
       "      <td>0.7</td>\n",
       "      <td>5.5</td>\n",
       "      <td>5.0</td>\n",
       "    </tr>\n",
       "    <tr>\n",
       "      <th>5</th>\n",
       "      <td>2018-04-01 00:01:40</td>\n",
       "      <td>2018-04-01 00:14:21</td>\n",
       "      <td>226</td>\n",
       "      <td>83</td>\n",
       "      <td>2.5</td>\n",
       "      <td>11.5</td>\n",
       "      <td>12.0</td>\n",
       "    </tr>\n",
       "    <tr>\n",
       "      <th>6</th>\n",
       "      <td>2018-04-01 00:57:02</td>\n",
       "      <td>2018-04-01 01:04:57</td>\n",
       "      <td>95</td>\n",
       "      <td>135</td>\n",
       "      <td>1.8</td>\n",
       "      <td>8.5</td>\n",
       "      <td>7.0</td>\n",
       "    </tr>\n",
       "  </tbody>\n",
       "</table>\n",
       "</div>"
      ],
      "text/plain": [
       "  tpep_pickup_datetime tpep_dropoff_datetime  PULocationID  DOLocationID  \\\n",
       "1  2018-04-01 00:47:37   2018-04-01 01:08:42           152            90   \n",
       "2  2018-04-01 00:02:13   2018-04-01 00:17:52           239           158   \n",
       "3  2018-04-01 00:46:49   2018-04-01 00:52:05            90           249   \n",
       "5  2018-04-01 00:01:40   2018-04-01 00:14:21           226            83   \n",
       "6  2018-04-01 00:57:02   2018-04-01 01:04:57            95           135   \n",
       "\n",
       "   trip_distance  fare_amount  trip_duration(mins)  \n",
       "1            6.7         22.5                 21.0  \n",
       "2            4.1         15.5                 15.0  \n",
       "3            0.7          5.5                  5.0  \n",
       "5            2.5         11.5                 12.0  \n",
       "6            1.8          8.5                  7.0  "
      ]
     },
     "execution_count": 187,
     "metadata": {},
     "output_type": "execute_result"
    }
   ],
   "source": [
    "del data\n",
    "trip = trip.loc[(trip['trip_duration(mins)'] <= 300) & (trip['trip_duration(mins)'] >= 1)]\n",
    "trip.head()"
   ]
  },
  {
   "cell_type": "markdown",
   "metadata": {},
   "source": [
    "Compute the mean and std of average fare"
   ]
  },
  {
   "cell_type": "code",
   "execution_count": 188,
   "metadata": {},
   "outputs": [
    {
     "name": "stdout",
     "output_type": "stream",
     "text": [
      "mean of average fare per mile 3.9754457164216848\n",
      "std of average fare per mile 1.214949314645236\n"
     ]
    },
    {
     "data": {
      "text/plain": [
       "<matplotlib.axes._subplots.AxesSubplot at 0x158c9869390>"
      ]
     },
     "execution_count": 188,
     "metadata": {},
     "output_type": "execute_result"
    },
    {
     "data": {
      "image/png": "[encoded data removed]",
      "text/plain": [
       "<Figure size 432x288 with 1 Axes>"
      ]
     },
     "metadata": {},
     "output_type": "display_data"
    }
   ],
   "source": [
    "average_fare = (trip['fare_amount']-2.5)/trip['trip_distance']\n",
    "ave = []\n",
    "for i in (average_fare):\n",
    "    if i > 0 and i < 10:\n",
    "        ave.append(i)\n",
    "print(\"mean of average fare per mile\",np.mean(ave))\n",
    "print(\"std of average fare per mile\",np.std(ave))\n",
    "sns.set(color_codes=True)\n",
    "sns.distplot(ave, hist=True, kde=True, \n",
    "             bins=int(180/5), color = 'blue', \n",
    "             hist_kws={'edgecolor':'black'},\n",
    "             kde_kws={'linewidth': 2})"
   ]
  },
  {
   "cell_type": "markdown",
   "metadata": {},
   "source": [
    "The distribution is a unimodal model and slightly skewed left with the peak at around 3. However it has another smaller 'peak' at 5. "
   ]
  },
  {
   "cell_type": "markdown",
   "metadata": {},
   "source": [
    "Compute the means and stds for all other boroughs"
   ]
  },
  {
   "cell_type": "code",
   "execution_count": 189,
   "metadata": {},
   "outputs": [
    {
     "data": {
      "text/html": [
       "<div>\n",
       "<style scoped>\n",
       "    .dataframe tbody tr th:only-of-type {\n",
       "        vertical-align: middle;\n",
       "    }\n",
       "\n",
       "    .dataframe tbody tr th {\n",
       "        vertical-align: top;\n",
       "    }\n",
       "\n",
       "    .dataframe thead th {\n",
       "        text-align: right;\n",
       "    }\n",
       "</style>\n",
       "<table border=\"1\" class=\"dataframe\">\n",
       "  <thead>\n",
       "    <tr style=\"text-align: right;\">\n",
       "      <th></th>\n",
       "      <th>trip_distance</th>\n",
       "      <th>fare_amount</th>\n",
       "      <th>trip_duration(mins)</th>\n",
       "      <th>PUBorough</th>\n",
       "      <th>DOBorough</th>\n",
       "    </tr>\n",
       "  </thead>\n",
       "  <tbody>\n",
       "    <tr>\n",
       "      <th>1</th>\n",
       "      <td>6.7</td>\n",
       "      <td>22.5</td>\n",
       "      <td>21.0</td>\n",
       "      <td>Manhattan</td>\n",
       "      <td>Manhattan</td>\n",
       "    </tr>\n",
       "    <tr>\n",
       "      <th>2</th>\n",
       "      <td>4.1</td>\n",
       "      <td>15.5</td>\n",
       "      <td>15.0</td>\n",
       "      <td>Manhattan</td>\n",
       "      <td>Manhattan</td>\n",
       "    </tr>\n",
       "    <tr>\n",
       "      <th>3</th>\n",
       "      <td>0.7</td>\n",
       "      <td>5.5</td>\n",
       "      <td>5.0</td>\n",
       "      <td>Manhattan</td>\n",
       "      <td>Manhattan</td>\n",
       "    </tr>\n",
       "    <tr>\n",
       "      <th>5</th>\n",
       "      <td>2.5</td>\n",
       "      <td>11.5</td>\n",
       "      <td>12.0</td>\n",
       "      <td>Queens</td>\n",
       "      <td>Queens</td>\n",
       "    </tr>\n",
       "    <tr>\n",
       "      <th>6</th>\n",
       "      <td>1.8</td>\n",
       "      <td>8.5</td>\n",
       "      <td>7.0</td>\n",
       "      <td>Queens</td>\n",
       "      <td>Queens</td>\n",
       "    </tr>\n",
       "  </tbody>\n",
       "</table>\n",
       "</div>"
      ],
      "text/plain": [
       "   trip_distance  fare_amount  trip_duration(mins)  PUBorough  DOBorough\n",
       "1            6.7         22.5                 21.0  Manhattan  Manhattan\n",
       "2            4.1         15.5                 15.0  Manhattan  Manhattan\n",
       "3            0.7          5.5                  5.0  Manhattan  Manhattan\n",
       "5            2.5         11.5                 12.0     Queens     Queens\n",
       "6            1.8          8.5                  7.0     Queens     Queens"
      ]
     },
     "execution_count": 189,
     "metadata": {},
     "output_type": "execute_result"
    }
   ],
   "source": [
    "boro = pandas.read_csv('taxi_zone_lookup.csv')\n",
    "boro = boro[['LocationID', 'Borough']].set_index('LocationID')\n",
    "boro.columns = ['PUBorough']\n",
    "trip = trip.join(boro, on = 'PULocationID', how = 'left')\n",
    "boro.columns = ['DOBorough']\n",
    "trip = trip.join(boro, on = 'DOLocationID', how = 'left')\n",
    "trip = trip.loc[:,['trip_distance','fare_amount','trip_duration(mins)','PUBorough','DOBorough']]\n",
    "trip.head()"
   ]
  },
  {
   "cell_type": "code",
   "execution_count": 190,
   "metadata": {},
   "outputs": [
    {
     "name": "stdout",
     "output_type": "stream",
     "text": [
      "3.088054368509667\n",
      "2.9289967934722627\n"
     ]
    }
   ],
   "source": [
    "Q = trip.loc[trip[\"PUBorough\"] == 'Queens' ][['trip_distance', 'fare_amount']]\n",
    "Qaverage_fare = (Q['fare_amount']-2.5)/Q['trip_distance'] #not taking into account 2.5$ initial subcharge\n",
    "print(np.mean(Qaverage_fare))\n",
    "print(np.std(Qaverage_fare))"
   ]
  },
  {
   "cell_type": "code",
   "execution_count": 191,
   "metadata": {},
   "outputs": [
    {
     "name": "stdout",
     "output_type": "stream",
     "text": [
      "4.131371743098349\n",
      "2.1016955277226375\n"
     ]
    }
   ],
   "source": [
    "M = trip.loc[trip[\"PUBorough\"] == 'Manhattan' ][['trip_distance', 'fare_amount']]\n",
    "Maverage_fare = (M['fare_amount']-2.5)/M['trip_distance'] #not taking into account 2.5$ initial subcharge\n",
    "print(np.mean(Maverage_fare))\n",
    "print(np.std(Maverage_fare))"
   ]
  },
  {
   "cell_type": "code",
   "execution_count": 192,
   "metadata": {},
   "outputs": [
    {
     "name": "stdout",
     "output_type": "stream",
     "text": [
      "3.643911151841427\n",
      "6.2214656424477885\n"
     ]
    }
   ],
   "source": [
    "Bx = trip.loc[trip[\"PUBorough\"] == 'Bronx' ][['trip_distance', 'fare_amount']]\n",
    "Bxaverage_fare = (Bx['fare_amount']-2.5)/Bx['trip_distance'] #not taking into account 2.5$ initial subcharge\n",
    "print(np.mean(Bxaverage_fare))\n",
    "print(np.std(Bxaverage_fare))"
   ]
  },
  {
   "cell_type": "code",
   "execution_count": 193,
   "metadata": {},
   "outputs": [
    {
     "name": "stdout",
     "output_type": "stream",
     "text": [
      "3.5790496842169324\n",
      "2.74786795579384\n"
     ]
    }
   ],
   "source": [
    "Br = trip.loc[trip[\"PUBorough\"] == 'Brooklyn' ][['trip_distance', 'fare_amount']]\n",
    "Braverage_fare = (Br['fare_amount']-2.5)/Br['trip_distance'] #not taking into account 2.5$ initial subcharge\n",
    "print(np.mean(Braverage_fare))\n",
    "print(np.std(Braverage_fare))"
   ]
  },
  {
   "cell_type": "code",
   "execution_count": 194,
   "metadata": {},
   "outputs": [
    {
     "name": "stdout",
     "output_type": "stream",
     "text": [
      "3.1679457056375515\n",
      "1.7590250735956372\n"
     ]
    }
   ],
   "source": [
    "S = trip.loc[trip[\"PUBorough\"] == 'Staten Island' ][['trip_distance', 'fare_amount']]\n",
    "Saverage_fare = (S['fare_amount']-2.5)/S['trip_distance'] #not taking into account 2.5$ initial subcharge\n",
    "print(np.mean(Saverage_fare))\n",
    "print(np.std(Saverage_fare))"
   ]
  },
  {
   "cell_type": "code",
   "execution_count": 195,
   "metadata": {
    "scrolled": true
   },
   "outputs": [
    {
     "name": "stdout",
     "output_type": "stream",
     "text": [
      "20.36925815387621\n",
      "41.279755550046616\n"
     ]
    }
   ],
   "source": [
    "E = trip.loc[trip[\"PUBorough\"] == 'EWR' ][['trip_distance', 'fare_amount']]\n",
    "Eaverage_fare = (E['fare_amount']-20)/E['trip_distance'] #not taking into account 20$ initial subcharge\n",
    "print(np.mean(Eaverage_fare))\n",
    "print(np.std(Eaverage_fare))"
   ]
  },
  {
   "cell_type": "markdown",
   "metadata": {},
   "source": [
    "# STATISTIC TESTS"
   ]
  },
  {
   "cell_type": "code",
   "execution_count": 196,
   "metadata": {},
   "outputs": [
    {
     "name": "stdout",
     "output_type": "stream",
     "text": [
      "Comparing average fare of Manhattan and Queens\n",
      "Statistics=162.802, p=0.000\n",
      "Different distributions (reject H0)\n",
      "Comparing average fare of Bronx and Queens\n",
      "Statistics=10.031, p=0.000\n",
      "Different distributions (reject H0)\n",
      "Comparing average fare of Bronx and Manhattan\n",
      "Statistics=2.382, p=0.017\n",
      "Different distributions (reject H0)\n",
      "Comparing average fare of Brooklyn and Queens\n",
      "Statistics=53.061, p=0.000\n",
      "Different distributions (reject H0)\n",
      "Comparing average fare of Brooklyn and Manhattan\n",
      "Statistics=18.490, p=0.000\n",
      "Different distributions (reject H0)\n",
      "Comparing average fare of Brooklyn and Bronx\n",
      "Statistics=-2.980, p=0.003\n",
      "Different distributions (reject H0)\n",
      "Comparing average fare of StatenIsland and Queens\n",
      "Statistics=1.201, p=0.234\n",
      "Same distributions (accept H0)\n",
      "Comparing average fare of StatenIsland and Manhattan\n",
      "Statistics=-1.376, p=0.173\n",
      "Same distributions (accept H0)\n",
      "Comparing average fare of StatenIsland and Bronx\n",
      "Statistics=0.242, p=0.810\n",
      "Same distributions (accept H0)\n",
      "Comparing average fare of StatenIsland and Brooklyn\n",
      "Statistics=-0.609, p=0.545\n",
      "Same distributions (accept H0)\n",
      "Comparing average fare of EWR and Queens\n",
      "Statistics=2.726, p=0.009\n",
      "Different distributions (reject H0)\n",
      "Comparing average fare of EWR and Manhattan\n",
      "Statistics=2.627, p=0.012\n",
      "Different distributions (reject H0)\n",
      "Comparing average fare of EWR and Bronx\n",
      "Statistics=2.688, p=0.010\n",
      "Different distributions (reject H0)\n",
      "Comparing average fare of EWR and Brooklyn\n",
      "Statistics=2.640, p=0.012\n",
      "Different distributions (reject H0)\n",
      "Comparing average fare of EWR and StatenIsland\n",
      "Statistics=2.645, p=0.012\n",
      "Different distributions (reject H0)\n"
     ]
    }
   ],
   "source": [
    "# Null hypothesis: The average price per kilometer in each borough is the same \n",
    "# H1: The average price per kilometer in each borough is significantly different \n",
    "# Paired Student’s t-Test\n",
    "List1 = [Qaverage_fare]\n",
    "List2 = [Maverage_fare]\n",
    "List3 = [Bxaverage_fare]\n",
    "List4 = [Braverage_fare]\n",
    "List5 = [Saverage_fare]\n",
    "List6 = [Eaverage_fare]\n",
    "xd = {'Queens': List1, 'Manhattan': List2, 'Bronx': List3, 'Brooklyn': List4, 'StatenIsland': List5, 'EWR': List6}\n",
    "\n",
    "for k, v in xd.items():\n",
    "    for k1, v1 in xd.items():\n",
    "        if k == k1:\n",
    "            break\n",
    "        else:\n",
    "            print('Comparing average fare of %s and %s' % (k, k1))\n",
    "            if len(v[0]) >= len(v1[0]):\n",
    "                # compare samples\n",
    "                stat, p = ttest_rel(v[0][:len(v1[0])], v1[0])\n",
    "                print('Statistics=%.3f, p=%.3f' % (stat, p))\n",
    "                # interpret\n",
    "                alpha = 0.05\n",
    "                if p > alpha:\n",
    "                    print('Same distributions (accept H0)')\n",
    "                else:\n",
    "                    print('Different distributions (reject H0)')\n",
    "            else:\n",
    "                # compare samples\n",
    "                stat, p = ttest_rel(v[0], v1[0][:len(v[0])])\n",
    "                print('Statistics=%.3f, p=%.3f' % (stat, p))\n",
    "                # interpret\n",
    "                alpha = 0.05\n",
    "                if p > alpha:\n",
    "                    print('Same distributions (accept H0)')\n",
    "                else:\n",
    "                    print('Different distributions (reject H0)')"
   ]
  },
  {
   "cell_type": "markdown",
   "metadata": {},
   "source": [
    "Based on the test results above, we can see that the average fare price in Newark Liberty International Airport is significantly different from other boroughs(we are considering the initial pick-up location in this case)."
   ]
  },
  {
   "cell_type": "markdown",
   "metadata": {},
   "source": [
    "Compute the weighted mean and std of average fare"
   ]
  },
  {
   "cell_type": "code",
   "execution_count": 197,
   "metadata": {},
   "outputs": [
    {
     "name": "stdout",
     "output_type": "stream",
     "text": [
      "mean of 27.40573455736711\n",
      "std of 22.35200646931189\n"
     ]
    },
    {
     "data": {
      "text/plain": [
       "<matplotlib.axes._subplots.AxesSubplot at 0x159129660b8>"
      ]
     },
     "execution_count": 197,
     "metadata": {},
     "output_type": "execute_result"
    },
    {
     "data": {
      "image/png": "[encoded data removed]",
      "text/plain": [
       "<Figure size 432x288 with 1 Axes>"
      ]
     },
     "metadata": {},
     "output_type": "display_data"
    }
   ],
   "source": [
    "Pprime = average_fare * (trip['trip_duration(mins)']/trip['trip_distance'])\n",
    "Pave = []\n",
    "for i in (Pprime):\n",
    "    if i > 0 and i < 150:\n",
    "        Pave.append(i)\n",
    "print(\"mean of\",np.mean(Pave))\n",
    "print(\"std of\",np.std(Pave))\n",
    "sns.set(color_codes=True)\n",
    "sns.distplot(Pave, hist=True, kde=True, \n",
    "             bins=int(180/5), color = 'blue', \n",
    "             hist_kws={'edgecolor':'black'},\n",
    "             kde_kws={'linewidth': 2})"
   ]
  },
  {
   "cell_type": "markdown",
   "metadata": {},
   "source": [
    "The distribution model is unimodal and heavily skewed to the left. The peak is at 15-18."
   ]
  },
  {
   "cell_type": "code",
   "execution_count": 198,
   "metadata": {},
   "outputs": [
    {
     "name": "stdout",
     "output_type": "stream",
     "text": [
      "11.242825765109702\n",
      "179.01135525659075\n"
     ]
    }
   ],
   "source": [
    "Qw = trip.loc[trip[\"PUBorough\"] == 'Queens' ][['trip_distance', 'fare_amount','trip_duration(mins)']]\n",
    "Qwaverage_fare = (Qw['fare_amount']-2.5)/Qw['trip_distance'] * (Qw['trip_duration(mins)']/Qw['trip_distance'])\n",
    "print(np.mean(Qwaverage_fare))\n",
    "print(np.std(Qwaverage_fare))"
   ]
  },
  {
   "cell_type": "code",
   "execution_count": 199,
   "metadata": {},
   "outputs": [
    {
     "name": "stdout",
     "output_type": "stream",
     "text": [
      "31.809413001745057\n",
      "97.0103278591952\n"
     ]
    }
   ],
   "source": [
    "Mw = trip.loc[trip[\"PUBorough\"] == 'Manhattan' ][['trip_distance', 'fare_amount','trip_duration(mins)']]\n",
    "Mwaverage_fare = (Mw['fare_amount']-2.5)/Mw['trip_distance'] * (Mw['trip_duration(mins)']/Mw['trip_distance'])\n",
    "print(np.mean(Mwaverage_fare))\n",
    "print(np.std(Mwaverage_fare))"
   ]
  },
  {
   "cell_type": "code",
   "execution_count": 200,
   "metadata": {},
   "outputs": [
    {
     "name": "stdout",
     "output_type": "stream",
     "text": [
      "27.834922096434813\n",
      "757.9737937713134\n"
     ]
    }
   ],
   "source": [
    "Bxw = trip.loc[trip[\"PUBorough\"] == 'Bronx' ][['trip_distance', 'fare_amount','trip_duration(mins)']]\n",
    "Bxwaverage_fare = (Bxw['fare_amount']-2.5)/Bxw['trip_distance'] * (Bxw['trip_duration(mins)']/Bxw['trip_distance'])\n",
    "print(np.mean(Bxwaverage_fare))\n",
    "print(np.std(Bxwaverage_fare))"
   ]
  },
  {
   "cell_type": "code",
   "execution_count": 201,
   "metadata": {},
   "outputs": [
    {
     "name": "stdout",
     "output_type": "stream",
     "text": [
      "19.608618032199335\n",
      "43.782829609858524\n"
     ]
    }
   ],
   "source": [
    "Brw = trip.loc[trip[\"PUBorough\"] == 'Brooklyn' ][['trip_distance', 'fare_amount','trip_duration(mins)']]\n",
    "Brwaverage_fare = (Brw['fare_amount']-2.5)/Brw['trip_distance'] * (Brw['trip_duration(mins)']/Brw['trip_distance'])\n",
    "print(np.mean(Brwaverage_fare))\n",
    "print(np.std(Brwaverage_fare))"
   ]
  },
  {
   "cell_type": "code",
   "execution_count": 202,
   "metadata": {},
   "outputs": [
    {
     "name": "stdout",
     "output_type": "stream",
     "text": [
      "8.630331005277888\n",
      "5.88736949365818\n"
     ]
    }
   ],
   "source": [
    "Sw = trip.loc[trip[\"PUBorough\"] == 'Staten Island' ][['trip_distance', 'fare_amount','trip_duration(mins)']]\n",
    "Swaverage_fare = (Sw['fare_amount']-2.5)/Sw['trip_distance'] * (Sw['trip_duration(mins)']/Sw['trip_distance'])\n",
    "print(np.mean(Swaverage_fare))\n",
    "print(np.std(Swaverage_fare))"
   ]
  },
  {
   "cell_type": "code",
   "execution_count": 203,
   "metadata": {},
   "outputs": [
    {
     "name": "stdout",
     "output_type": "stream",
     "text": [
      "39.24052979006258\n",
      "94.94939137539826\n"
     ]
    }
   ],
   "source": [
    "Ew = trip.loc[trip[\"PUBorough\"] == 'EWR' ][['trip_distance', 'fare_amount','trip_duration(mins)']]\n",
    "Ewaverage_fare = (Ew['fare_amount']-20)/Ew['trip_distance'] * (Ew['trip_duration(mins)']/Ew['trip_distance'])\n",
    "print(np.mean(Ewaverage_fare))\n",
    "print(np.std(Ewaverage_fare))"
   ]
  },
  {
   "cell_type": "markdown",
   "metadata": {},
   "source": [
    "# STATISTIC TESTS"
   ]
  },
  {
   "cell_type": "code",
   "execution_count": 204,
   "metadata": {},
   "outputs": [
    {
     "name": "stdout",
     "output_type": "stream",
     "text": [
      "Comparing weighted average fare of Manhattan and Queens\n",
      "Statistics=61.693, p=0.000\n",
      "Different distributions (reject H0)\n",
      "Comparing weighted average fare of Bronx and Queens\n",
      "Statistics=2.462, p=0.014\n",
      "Different distributions (reject H0)\n",
      "Comparing weighted average fare of Bronx and Manhattan\n",
      "Statistics=1.179, p=0.238\n",
      "Same distributions (accept H0)\n",
      "Comparing weighted average fare of Brooklyn and Queens\n",
      "Statistics=61.244, p=0.000\n",
      "Different distributions (reject H0)\n",
      "Comparing weighted average fare of Brooklyn and Manhattan\n",
      "Statistics=14.687, p=0.000\n",
      "Different distributions (reject H0)\n",
      "Comparing weighted average fare of Brooklyn and Bronx\n",
      "Statistics=-1.279, p=0.201\n",
      "Same distributions (accept H0)\n",
      "Comparing weighted average fare of StatenIsland and Queens\n",
      "Statistics=-0.376, p=0.708\n",
      "Same distributions (accept H0)\n",
      "Comparing weighted average fare of StatenIsland and Manhattan\n",
      "Statistics=-5.750, p=0.000\n",
      "Different distributions (reject H0)\n",
      "Comparing weighted average fare of StatenIsland and Bronx\n",
      "Statistics=-3.105, p=0.003\n",
      "Different distributions (reject H0)\n",
      "Comparing weighted average fare of StatenIsland and Brooklyn\n",
      "Statistics=-6.053, p=0.000\n",
      "Different distributions (reject H0)\n",
      "Comparing weighted average fare of EWR and Queens\n",
      "Statistics=2.163, p=0.036\n",
      "Different distributions (reject H0)\n",
      "Comparing weighted average fare of EWR and Manhattan\n",
      "Statistics=1.421, p=0.163\n",
      "Same distributions (accept H0)\n",
      "Comparing weighted average fare of EWR and Bronx\n",
      "Statistics=1.885, p=0.067\n",
      "Same distributions (accept H0)\n",
      "Comparing weighted average fare of EWR and Brooklyn\n",
      "Statistics=1.576, p=0.123\n",
      "Same distributions (accept H0)\n",
      "Comparing weighted average fare of EWR and StatenIsland\n",
      "Statistics=2.034, p=0.048\n",
      "Different distributions (reject H0)\n"
     ]
    }
   ],
   "source": [
    "# Null hypothesis: The weighted average price per kilometer in each borough is the same with the weighted average price in New York\n",
    "# H1: The weighted average price per kilometer in each borough is significantly different from the weighted average price in New York\n",
    "# Paired Student’s t-Test\n",
    "\n",
    "List1 = [Qwaverage_fare]\n",
    "List2 = [Mwaverage_fare]\n",
    "List3 = [Bxwaverage_fare]\n",
    "List4 = [Brwaverage_fare]\n",
    "List5 = [Swaverage_fare]\n",
    "List6 = [Ewaverage_fare]\n",
    "\n",
    "xd1 = {'Queens': List1, 'Manhattan': List2, 'Bronx': List3, 'Brooklyn': List4, 'StatenIsland': List5, 'EWR': List6}\n",
    "\n",
    "for k, v in xd1.items():\n",
    "    for k1, v1 in xd1.items():\n",
    "        if k == k1:\n",
    "            break\n",
    "        else:\n",
    "            print('Comparing weighted average fare of %s and %s' % (k, k1))\n",
    "            if len(v[0]) >= len(v1[0]):\n",
    "                # compare samples\n",
    "                stat, p = ttest_rel(v[0][:len(v1[0])], v1[0])\n",
    "                print('Statistics=%.3f, p=%.3f' % (stat, p))\n",
    "                # interpret\n",
    "                alpha = 0.05\n",
    "                if p > alpha:\n",
    "                    print('Same distributions (accept H0)')\n",
    "                else:\n",
    "                    print('Different distributions (reject H0)')\n",
    "            else:\n",
    "                # compare samples\n",
    "                stat, p = ttest_rel(v[0], v1[0][:len(v[0])])\n",
    "                print('Statistics=%.3f, p=%.3f' % (stat, p))\n",
    "                # interpret\n",
    "                alpha = 0.05\n",
    "                if p > alpha:\n",
    "                    print('Same distributions (accept H0)')\n",
    "                else:\n",
    "                    print('Different distributions (reject H0)')"
   ]
  },
  {
   "cell_type": "markdown",
   "metadata": {},
   "source": [
    "Based on the test results, we can see that the weight average price per mile is divided into 2 groups. The group with higher weighted average price includes Manhattan, Bronx and Newark Liberty International Airport. The other includes Queens, Brooklyn and Staten Island. These two groups have a significant difference in weighted average price indicating that the former group is the one of busy boroughs with longer waiting time."
   ]
  },
  {
   "cell_type": "markdown",
   "metadata": {},
   "source": [
    "# Core Research Q2"
   ]
  },
  {
   "cell_type": "markdown",
   "metadata": {},
   "source": [
    "Counting the number of trips starting in each borough"
   ]
  },
  {
   "cell_type": "code",
   "execution_count": 205,
   "metadata": {
    "scrolled": false
   },
   "outputs": [],
   "source": [
    "PUQ = trip[trip.PUBorough == 'Queens']\n",
    "PUMan = trip[trip.PUBorough == 'Manhattan']\n",
    "PUBx = trip[trip.PUBorough == 'Bronx']\n",
    "PUBr = trip[trip.PUBorough == 'Brooklyn']\n",
    "PUSt = trip[trip.PUBorough == 'Staten Island']\n",
    "PUE = trip[trip.PUBorough == 'EWR']"
   ]
  },
  {
   "cell_type": "code",
   "execution_count": 206,
   "metadata": {},
   "outputs": [
    {
     "data": {
      "text/html": [
       "<div>\n",
       "<style scoped>\n",
       "    .dataframe tbody tr th:only-of-type {\n",
       "        vertical-align: middle;\n",
       "    }\n",
       "\n",
       "    .dataframe tbody tr th {\n",
       "        vertical-align: top;\n",
       "    }\n",
       "\n",
       "    .dataframe thead th {\n",
       "        text-align: right;\n",
       "    }\n",
       "</style>\n",
       "<table border=\"1\" class=\"dataframe\">\n",
       "  <thead>\n",
       "    <tr style=\"text-align: right;\">\n",
       "      <th></th>\n",
       "      <th>List</th>\n",
       "      <th>District</th>\n",
       "      <th>Number</th>\n",
       "    </tr>\n",
       "  </thead>\n",
       "  <tbody>\n",
       "    <tr>\n",
       "      <th>0</th>\n",
       "      <td>0</td>\n",
       "      <td>Queens</td>\n",
       "      <td>575034</td>\n",
       "    </tr>\n",
       "    <tr>\n",
       "      <th>1</th>\n",
       "      <td>1</td>\n",
       "      <td>Manhattan</td>\n",
       "      <td>8314071</td>\n",
       "    </tr>\n",
       "    <tr>\n",
       "      <th>2</th>\n",
       "      <td>2</td>\n",
       "      <td>Bronx</td>\n",
       "      <td>9551</td>\n",
       "    </tr>\n",
       "    <tr>\n",
       "      <th>3</th>\n",
       "      <td>3</td>\n",
       "      <td>Brooklyn</td>\n",
       "      <td>115354</td>\n",
       "    </tr>\n",
       "    <tr>\n",
       "      <th>4</th>\n",
       "      <td>4</td>\n",
       "      <td>Staten Island</td>\n",
       "      <td>70</td>\n",
       "    </tr>\n",
       "    <tr>\n",
       "      <th>5</th>\n",
       "      <td>5</td>\n",
       "      <td>EWR</td>\n",
       "      <td>42</td>\n",
       "    </tr>\n",
       "  </tbody>\n",
       "</table>\n",
       "</div>"
      ],
      "text/plain": [
       "   List       District   Number\n",
       "0     0         Queens   575034\n",
       "1     1      Manhattan  8314071\n",
       "2     2          Bronx     9551\n",
       "3     3       Brooklyn   115354\n",
       "4     4  Staten Island       70\n",
       "5     5            EWR       42"
      ]
     },
     "execution_count": 206,
     "metadata": {},
     "output_type": "execute_result"
    }
   ],
   "source": [
    "List1 = ['Queens','Manhattan','Bronx','Brooklyn','Staten Island','EWR']\n",
    "List2 = [len(PUQ),len(PUMan),len(PUBx),len(PUBr),len(PUSt),len(PUE)]\n",
    "count = {'District': List1, 'Number': List2}\n",
    "df = pandas.DataFrame(data=count)\n",
    "df.to_json('df.json')\n",
    "df = df.reset_index()\n",
    "df.columns = ['List','District', 'Number']\n",
    "df"
   ]
  },
  {
   "cell_type": "markdown",
   "metadata": {},
   "source": [
    "Choropleph the map and save the output into html file"
   ]
  },
  {
   "cell_type": "code",
   "execution_count": 207,
   "metadata": {},
   "outputs": [],
   "source": [
    "url = 'https://raw.githubusercontent.com/CriMenghini/ADM-2018/master/Homework_2/taxi_zones.json'\n",
    "response = requests.get(url)\n",
    "nyc = folium.Map(location=[40.7,-74.0], zoom_start=11)\n",
    "nyc.choropleth(response.text,fill_opacity=0.5, line_opacity=0.5,\n",
    "               fill_color='YlOrRd',\n",
    "               threshold_scale = [2,20,200,20000,200000,2000000],\n",
    "               data = df,\n",
    "               key_on='feature.properties.borough',\n",
    "               columns=['District', 'Number']\n",
    "              )\n",
    "\n",
    "nyc.save(outfile='nyc.html')"
   ]
  },
  {
   "cell_type": "markdown",
   "metadata": {},
   "source": [
    "Counting the number of trips starting and ending in the same borough"
   ]
  },
  {
   "cell_type": "code",
   "execution_count": 208,
   "metadata": {},
   "outputs": [],
   "source": [
    "SameLocation = trip[trip.PUBorough == trip.DOBorough]\n",
    "Same_Queens = SameLocation[SameLocation.PUBorough == 'Queens']\n",
    "Same_Manhattan = SameLocation[SameLocation.PUBorough == 'Manhattan']\n",
    "Same_Bronx = SameLocation[SameLocation.PUBorough == 'Bronx']\n",
    "Same_Brooklyn = SameLocation[SameLocation.PUBorough == 'Brooklyn']\n",
    "Same_StatenIsland = SameLocation[SameLocation.PUBorough == 'Staten Island']\n",
    "Same_EWR = SameLocation[SameLocation.PUBorough == 'EWR']"
   ]
  },
  {
   "cell_type": "code",
   "execution_count": 209,
   "metadata": {},
   "outputs": [
    {
     "data": {
      "text/html": [
       "<div>\n",
       "<style scoped>\n",
       "    .dataframe tbody tr th:only-of-type {\n",
       "        vertical-align: middle;\n",
       "    }\n",
       "\n",
       "    .dataframe tbody tr th {\n",
       "        vertical-align: top;\n",
       "    }\n",
       "\n",
       "    .dataframe thead th {\n",
       "        text-align: right;\n",
       "    }\n",
       "</style>\n",
       "<table border=\"1\" class=\"dataframe\">\n",
       "  <thead>\n",
       "    <tr style=\"text-align: right;\">\n",
       "      <th></th>\n",
       "      <th>List</th>\n",
       "      <th>District</th>\n",
       "      <th>Number</th>\n",
       "    </tr>\n",
       "  </thead>\n",
       "  <tbody>\n",
       "    <tr>\n",
       "      <th>0</th>\n",
       "      <td>0</td>\n",
       "      <td>Queens</td>\n",
       "      <td>128286</td>\n",
       "    </tr>\n",
       "    <tr>\n",
       "      <th>1</th>\n",
       "      <td>1</td>\n",
       "      <td>Manhattan</td>\n",
       "      <td>7718930</td>\n",
       "    </tr>\n",
       "    <tr>\n",
       "      <th>2</th>\n",
       "      <td>2</td>\n",
       "      <td>Bronx</td>\n",
       "      <td>4892</td>\n",
       "    </tr>\n",
       "    <tr>\n",
       "      <th>3</th>\n",
       "      <td>3</td>\n",
       "      <td>Brooklyn</td>\n",
       "      <td>73405</td>\n",
       "    </tr>\n",
       "    <tr>\n",
       "      <th>4</th>\n",
       "      <td>4</td>\n",
       "      <td>Staten Island</td>\n",
       "      <td>25</td>\n",
       "    </tr>\n",
       "    <tr>\n",
       "      <th>5</th>\n",
       "      <td>5</td>\n",
       "      <td>EWR</td>\n",
       "      <td>15</td>\n",
       "    </tr>\n",
       "  </tbody>\n",
       "</table>\n",
       "</div>"
      ],
      "text/plain": [
       "   List       District   Number\n",
       "0     0         Queens   128286\n",
       "1     1      Manhattan  7718930\n",
       "2     2          Bronx     4892\n",
       "3     3       Brooklyn    73405\n",
       "4     4  Staten Island       25\n",
       "5     5            EWR       15"
      ]
     },
     "execution_count": 209,
     "metadata": {},
     "output_type": "execute_result"
    }
   ],
   "source": [
    "List3 = [len(Same_Queens),len(Same_Manhattan),len(Same_Bronx),len(Same_Brooklyn),len(Same_StatenIsland),len(Same_EWR)]\n",
    "count1 = {'District': List1, 'Number': List3}\n",
    "df1 = pandas.DataFrame(data=count1)\n",
    "df1.to_json('df1.json')\n",
    "df1 = df1.reset_index()\n",
    "df1.columns = ['List','District', 'Number']\n",
    "df1"
   ]
  },
  {
   "cell_type": "markdown",
   "metadata": {},
   "source": [
    "Choropleph the map and save the output into html file"
   ]
  },
  {
   "cell_type": "code",
   "execution_count": 210,
   "metadata": {},
   "outputs": [],
   "source": [
    "nyc_samelocation = folium.Map(location=[40.7,-74.0], zoom_start=11)\n",
    "nyc_samelocation.choropleth(response.text,fill_opacity=0.5, line_opacity=0.5,\n",
    "               fill_color='YlOrRd',\n",
    "               threshold_scale = [2,20,200,20000,200000,2000000],\n",
    "               data = df1,\n",
    "               key_on='feature.properties.borough',\n",
    "               columns=['District', 'Number']\n",
    "              )\n",
    "\n",
    "nyc_samelocation.save(outfile='nyc_samelocation.html')"
   ]
  },
  {
   "cell_type": "markdown",
   "metadata": {},
   "source": [
    "Based on the visualization, we observe that the majority of trips started in Manhattan and ended in the same borough."
   ]
  },
  {
   "cell_type": "markdown",
   "metadata": {},
   "source": [
    "The most conspicuous difference in the maps is the case of Queens borough, as the number of trips starting and ending in Queens noticeably differs from the number of trips in Queens when we only take into account starting borough"
   ]
  }
 ],
 "metadata": {
  "kernelspec": {
   "display_name": "Python 3",
   "language": "python",
   "name": "python3"
  },
  "language_info": {
   "codemirror_mode": {
    "name": "ipython",
    "version": 3
   },
   "file_extension": ".py",
   "mimetype": "text/x-python",
   "name": "python",
   "nbconvert_exporter": "python",
   "pygments_lexer": "ipython3",
   "version": "3.7.1"
  }
 },
 "nbformat": 4,
 "nbformat_minor": 2
}
